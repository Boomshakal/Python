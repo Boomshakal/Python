{
 "cells": [
  {
   "cell_type": "markdown",
   "metadata": {},
   "source": [
    "文件\n",
    "长久保存信息的一种数据信息集合\n",
    "常用操作\n",
    "打开关闭（文件一旦打开，需要关闭操作）\n",
    "读写内容\n",
    "查找 # open函数\n",
    "open函数负责打开文件，带有很多参数\n",
    "第一个参数： 必须有，文件的路径和名称\n",
    "mode：表明文件用什么方式打开\n",
    "r:以只读方式打开\n",
    "w：写方式打开，会覆盖以前的内容\n",
    "x：创建方式打开，如文件已经存在，报错\n",
    "a：append方式，以追加的方式对文件内容进行写入\n",
    "b： binary方式，二进制方式写入\n",
    "t： 文本方式打开\n",
    "+： 可读写\n",
    "    \n"
   ]
  },
  {
   "cell_type": "code",
   "execution_count": null,
   "metadata": {},
   "outputs": [],
   "source": [
    "# 打开文件，用写的方式\n",
    "# r表示后面字符串内容不需要转义\n",
    "# f称之为文件句柄\n",
    "f = open(r\"test01.txt\", 'w')\n",
    "# 文件打开后必须关闭\n",
    "#print(help(open))\n",
    "f.close()\n",
    "\n",
    "# 此案例说明，以写方式打开文件，默认是如果没有文件，则创建"
   ]
  },
  {
   "cell_type": "code",
   "execution_count": 59,
   "metadata": {},
   "outputs": [
    {
     "name": "stdout",
     "output_type": "stream",
     "text": [
      "计量\n",
      "\n",
      "体系\n"
     ]
    }
   ],
   "source": [
    "# with案例\n",
    "\n",
    "with open('test01.txt', 'r') as f:\n",
    "    # 按行读取内容\n",
    "    strline = f.readline()\n",
    "    # 此结构保证能够完整读取文件知道结束\n",
    "    while strline:\n",
    "        print(strline)\n",
    "        strline = f.readline()"
   ]
  },
  {
   "cell_type": "code",
   "execution_count": 57,
   "metadata": {},
   "outputs": [],
   "source": [
    "with open('test01.txt', 'r') as f:\n",
    "    # 以打开的文件f作为参数，创建列表\n",
    "    l = list(f)\n",
    "    for line in l:\n",
    "        print(line)"
   ]
  },
  {
   "cell_type": "code",
   "execution_count": 16,
   "metadata": {},
   "outputs": [
    {
     "name": "stdout",
     "output_type": "stream",
     "text": [
      "2\n",
      "计量\n"
     ]
    }
   ],
   "source": [
    "# read是按字符读取文件内容\n",
    "# 允许输入参数决定读取几个字符，如果没有制定，从当前位置读取到结尾\n",
    "# 否则，从当前位置读取指定个数字符\n",
    "\n",
    "with open('test01.txt', 'r') as f:\n",
    "    for i in \n",
    "        strChar = f.read(1)\n",
    "        #print(len(strChar))\n",
    "        print(strChar)\n",
    "    \n",
    "# 作业：\n",
    "# 使用read读取文件，每次读取一个，使用循环读完\n",
    "# 尽量保持格式"
   ]
  },
  {
   "cell_type": "markdown",
   "metadata": {},
   "source": [
    "seek（offset， from)\n",
    "移动文件的读取位置，也叫读取指针\n",
    "from的取值范围：\n",
    "0： 从文件头开始偏移\n",
    "1：从文件当前位置开始偏移\n",
    "2： 从文件末尾开始偏移\n",
    "移动的单位是字节(byte)\n",
    "一个汉子由若干个字节构成\n",
    "返回文件只针对 当前位置"
   ]
  },
  {
   "cell_type": "code",
   "execution_count": 6,
   "metadata": {},
   "outputs": [
    {
     "name": "stdout",
     "output_type": "stream",
     "text": [
      "系\n",
      "是是\n",
      "街坊绿地j\n",
      "束带结发\n",
      "\n"
     ]
    }
   ],
   "source": [
    "\n",
    "# seek案例\n",
    "# 打开文件后，从第5个字节出开始读取\n",
    "\n",
    "# 打开读写指针在0处， 即文件的开头\n",
    "with open(r'test01.txt', 'r') as f:\n",
    "    # seek移动单位是字节\n",
    "    f.seek(8, 0)\n",
    "    strChar = f.read()\n",
    "    print(strChar)"
   ]
  },
  {
   "cell_type": "code",
   "execution_count": 11,
   "metadata": {},
   "outputs": [
    {
     "name": "stdout",
     "output_type": "stream",
     "text": [
      "计量\n",
      "\n",
      "体系\n",
      "\n",
      "是是\n",
      "\n",
      "街坊绿\n",
      "地j\n",
      "\n",
      "束带结\n",
      "发\n",
      "\n"
     ]
    }
   ],
   "source": [
    "import time\n",
    "with open(r'test01.txt','r') as f:\n",
    "    strChar=f.read(3)\n",
    "    while strChar:\n",
    "        print(strChar)\n",
    "        time.sleep(1)\n",
    "        strChar=f.read(3)"
   ]
  },
  {
   "cell_type": "code",
   "execution_count": 18,
   "metadata": {},
   "outputs": [
    {
     "name": "stdout",
     "output_type": "stream",
     "text": [
      "计量\n",
      "\n",
      "6\n",
      "体系\n",
      "\n",
      "12\n",
      "是是\n",
      "\n",
      "18\n",
      "街坊绿\n",
      "24\n",
      "地j\n",
      "\n",
      "29\n",
      "束带结\n",
      "35\n",
      "发\n",
      "\n",
      "39\n"
     ]
    }
   ],
   "source": [
    "# tell函数： 用来显示文件读写指针的当前位置\n",
    "import time\n",
    "with open(r'test01.txt','r') as f:\n",
    "    strChar=f.read(3)\n",
    "    pos=f.tell()\n",
    "    while strChar:\n",
    "        print(strChar)\n",
    "        print(pos)\n",
    "        time.sleep(1)\n",
    "        strChar=f.read(3)\n",
    "        pos=f.tell()"
   ]
  },
  {
   "cell_type": "code",
   "execution_count": 23,
   "metadata": {},
   "outputs": [],
   "source": [
    "# write 案例\n",
    "# 1. 向文件追加一句诗\n",
    "\n",
    "# a代表追加方式打开 append\n",
    "with open(r'test01.txt', 'a') as f:\n",
    "    # 注意字符串内含有换行符\n",
    "    f.write(\"生活不仅有眼前的苟且， \\n 还有远方的苟且\")"
   ]
  },
  {
   "cell_type": "code",
   "execution_count": 22,
   "metadata": {},
   "outputs": [],
   "source": [
    "with open(r'test01.txt', 'a') as f:\n",
    "    f.writelines(\"生活不易\")\n",
    "    f.writelines(\"但是还得继续\")"
   ]
  },
  {
   "cell_type": "code",
   "execution_count": 25,
   "metadata": {},
   "outputs": [],
   "source": [
    "l = [\"I\", \"love\", \"wangxiaojing\"]\n",
    "\n",
    "# a代表追加方式打开\n",
    "with open(r'test01.txt', 'a') as f:\n",
    "    # 注意字符串内含有换行符\n",
    "    f.writelines(l)"
   ]
  },
  {
   "cell_type": "code",
   "execution_count": 24,
   "metadata": {},
   "outputs": [
    {
     "name": "stdout",
     "output_type": "stream",
     "text": [
      "Help on built-in function writelines:\n",
      "\n",
      "writelines(lines, /) method of _io.TextIOWrapper instance\n",
      "\n"
     ]
    }
   ],
   "source": [
    "help(f.writelines)"
   ]
  },
  {
   "cell_type": "code",
   "execution_count": null,
   "metadata": {},
   "outputs": [],
   "source": []
  }
 ],
 "metadata": {
  "kernelspec": {
   "display_name": "Python 3",
   "language": "python",
   "name": "python3"
  },
  "language_info": {
   "codemirror_mode": {
    "name": "ipython",
    "version": 3
   },
   "file_extension": ".py",
   "mimetype": "text/x-python",
   "name": "python",
   "nbconvert_exporter": "python",
   "pygments_lexer": "ipython3",
   "version": "3.6.5"
  }
 },
 "nbformat": 4,
 "nbformat_minor": 2
}
