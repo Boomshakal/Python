{
 "cells": [
  {
   "cell_type": "code",
   "execution_count": 2,
   "metadata": {},
   "outputs": [],
   "source": [
    "import zipfile"
   ]
  },
  {
   "cell_type": "code",
   "execution_count": 8,
   "metadata": {},
   "outputs": [
    {
     "name": "stdout",
     "output_type": "stream",
     "text": [
      "2018年6月整改说明会/\n",
      "GodMode.{ED7BA470-8E54-465E-825C-99712043E01C}/\n",
      "性感纯黑鼠标指针/\n",
      "法律法规/\n",
      "环境、安全体系相关文件（新）/\n",
      "18年6月份检定计划表.xlsx\n",
      "360安全浏览器.lnk\n",
      "360极速浏览器.lnk\n",
      "AWicons Pro.lnk\n",
      "Clean Registry - 1 Click.lnk\n",
      "client.exe.lnk\n",
      "desktop (1).ini\n",
      "desktop.ini\n",
      "Document1.Lab\n",
      "Document2.Lab\n",
      "Document3.Lab\n",
      "eManager ERP 9.2.lnk\n",
      "FeiQ（飞秋）.exe\n",
      "Files.lnk\n",
      "Kindle.lnk\n",
      "Microsoft Edge.lnk\n",
      "new_IcoSprite.exe\n",
      "PanDownload.exe.lnk\n",
      "QuickLook.lnk\n",
      "WiseRegCleaner.exe.lnk\n",
      "~$18年5月份检定计划表.xlsx\n",
      "~$2018.3.19-3.24.xlsx\n",
      "~$各机型整理20171028.xlsx\n",
      "~$品维修管理规范.doc\n",
      "~$品维修管理规范2017.12.09.doc\n",
      "~$智米马桶盖整机特采记录表.xlsx\n",
      "~$部MES操作手册(物料组).doc\n",
      "~$问题反馈单-- 怡和卫浴 - 副本.docx\n",
      "产品档案.lnk\n",
      "体系文件.lnk\n",
      "同花顺.lnk\n",
      "按键精灵2014.05商业版.lnk\n",
      "文档1.btw\n",
      "百度网盘.lnk\n",
      "简单游.lnk\n",
      "营业执照.jpg\n",
      "计划部MES操作手册(物料组).doc\n",
      "设备档案.lnk\n",
      "迅雷极速版.lnk\n",
      "2018年6月整改说明会/01 2018年6月两体系外审问题清单及整改计划.xls\n",
      "2018年6月整改说明会/02 体系认证整改工作会议.ppt\n",
      "2018年6月整改说明会/06 环境因素及重要环境因素清单（生产部）.xls\n",
      "2018年6月整改说明会/5~ELWI_[CD{I$K1R$3%3L8I.png\n",
      "2018年6月整改说明会/WM7{8~)X$2G00U12IUV0A%J.png\n",
      "2018年6月整改说明会/中华人民共和国产品质量法.doc\n",
      "2018年6月整改说明会/中华人民共和国安全生产法.doc\n",
      "2018年6月整改说明会/企业适用的法律法规标准清单（总表）.xls\n",
      "2018年6月整改说明会/危险源清单及具有不可容许风险的危险源清单(工程部）18-6-4.xls\n",
      "2018年6月整改说明会/合规性评价表.doc\n",
      "2018年6月整改说明会/新员工三级安全教育记录表.doc\n",
      "2018年6月整改说明会/浙江省产品质量监督条例.doc\n",
      "2018年6月整改说明会/浙江省安全生产条例.doc\n",
      "2018年6月整改说明会/风险和机遇识别与评价.doc\n",
      "性感纯黑鼠标指针/AutoSetup.inf\n",
      "性感纯黑鼠标指针/不可用.cur\n",
      "性感纯黑鼠标指针/候选.cur\n",
      "性感纯黑鼠标指针/后台运行.ani\n",
      "性感纯黑鼠标指针/垂直调整.cur\n",
      "性感纯黑鼠标指针/帮助选择.cur\n",
      "性感纯黑鼠标指针/忙.ani\n",
      "性感纯黑鼠标指针/手写.cur\n",
      "性感纯黑鼠标指针/正常选择.cur\n",
      "性感纯黑鼠标指针/水平调整.cur\n",
      "性感纯黑鼠标指针/沿对角线调整1.cur\n",
      "性感纯黑鼠标指针/沿对角线调整2.cur\n",
      "性感纯黑鼠标指针/移动.cur\n",
      "性感纯黑鼠标指针/精确定位.cur\n",
      "性感纯黑鼠标指针/连接选择.cur\n",
      "性感纯黑鼠标指针/选定文本.cur\n",
      "法律法规/1993年预防重大工业事故公约.doc\n",
      "法律法规/2、中华人民共和国强制检定的工作计量器具检定管理办法.doc\n",
      "法律法规/3-中华人民共和国计量法条文解释.pdf\n",
      "法律法规/4-2 合规性评价表(0614).docx\n",
      "法律法规/RoHS-关于在电子电气设备中禁止使用某些有害物质指令.doc\n",
      "法律法规/~$ Microsoft Word 文档.docx\n",
      "法律法规/《中华人民共和国依法管理的计量器具目录(型式批准部分)》(2005).doc\n",
      "法律法规/《关于消耗臭氧层物质的蒙特利尔议定书》.doc\n",
      "法律法规/《联合国气候变化框架公约》京都议定书全文.docx\n",
      "法律法规/《计量违法行为处罚细则》.pdf\n",
      "法律法规/中华人民共和国产品质量法(2000修正版).pdf\n",
      "法律法规/中华人民共和国商标法(2013年8月30日第三次修正).doc\n",
      "法律法规/中华人民共和国消费者权益保护法(2013修正).doc\n",
      "法律法规/中华人民共和国计量法.docx\n",
      "法律法规/中华人民共和国计量法实施细则.docx\n",
      "法律法规/中华人民共和国认证认可条例.docx\n",
      "法律法规/产品质量监督抽查管理办法.doc\n",
      "法律法规/企业适用的法律法规标准清单（总表）.xls\n",
      "法律法规/作业场所安全使用化学品公约(170号公约).doc\n",
      "法律法规/保护臭氧层维也纳公约.docx\n",
      "法律法规/关于企业使用的非强检计量器具.doc\n",
      "法律法规/关于持久性有机污染物的斯德哥尔摩公约.pdf\n",
      "法律法规/合规性评价表.docx\n",
      "法律法规/新建 Microsoft Word 文档.docx\n",
      "法律法规/欧盟关于报废电子电气设备指令WEEE指令.doc\n",
      "法律法规/计量标准考核办法.docx\n",
      "法律法规/计量检定人员管理办法.docx\n",
      "环境、安全体系相关文件（新）/13 2018年度一体化管理体系方针目标及实施计划(1).xls\n",
      "环境、安全体系相关文件（新）/14环境因素及重要环境因素清单（总表）(1).xls\n",
      "环境、安全体系相关文件（新）/15 危险源清单及不可接受风险的危险源清单(总表）(1).xls\n",
      "环境、安全体系相关文件（新）/16 企业适用的法律法规标准清单（总表）(1).xls\n",
      "环境、安全体系相关文件（新）/16一阶段E   S双体系审核计划.doc\n",
      "环境、安全体系相关文件（新）/17 浙怡司【2018】12号（关于职业健康安全事务代表任命的决定）.doc\n",
      "环境、安全体系相关文件（新）/18 ZH-B03 有效文件清单 （总表）.doc\n",
      "环境、安全体系相关文件（新）/20 环境和职业健康安全管理经费支出清单.xls\n",
      "环境、安全体系相关文件（新）/21 HG-B13合规性评价记录(1).docx\n",
      "环境、安全体系相关文件（新）/360截图18040412107140152.png\n",
      "环境、安全体系相关文件（新）/YH QG-Z18-2011消防安全工作细则.doc\n",
      "环境、安全体系相关文件（新）/适用的法律、法规、标准及其他要求文件清单(特种设备).doc\n"
     ]
    }
   ],
   "source": [
    "#zipfile.ZipFile(file[, mode[, compression[, allowZip64]]])\n",
    "# 创建一个ZipFile对象，表示一个zip文件。参数file表示文件的路径或类文件对象(file-like object)；参数mode指示打开zip文件的模式，默认值为’r’，表示读已经存在的zip文件，也可以为’w’或’a’，’w’表示新建一个zip文档或覆盖一个已经存在的zip文档，’a’表示将数据附加到一个现存的zip文档中。参数compression表示在写zip文档时使用的压缩方法，它的值可以是zipfile. ZIP_STORED 或zipfile. ZIP_DEFLATED。如果要操作的zip文件大小超过2G，应该将allowZip64设置为True。\n",
    "# ZipFile.namelist()\n",
    "#  获取zip文档内所有文件的名称列表。\n",
    "zf = zipfile.ZipFile(\"backup.zip\")\n",
    "for i in  zf.namelist():\n",
    "    print(i)"
   ]
  },
  {
   "cell_type": "code",
   "execution_count": 14,
   "metadata": {},
   "outputs": [
    {
     "name": "stdout",
     "output_type": "stream",
     "text": [
      "<ZipInfo filename='Document3.Lab' compress_type=deflate filemode='-rw-rw-rw-' file_size=24064 compress_size=2636>\n"
     ]
    }
   ],
   "source": [
    "# ZipFile.getinfo(name):\n",
    "#  获取zip文档内指定文件的信息。返回一个zipfile.ZipInfo对象，它包括文件的详细信息。将在下面 具体介绍该对象。\n",
    "rst = zf.getinfo(\"Document3.Lab\")\n",
    "print(rst)"
   ]
  },
  {
   "cell_type": "code",
   "execution_count": 19,
   "metadata": {},
   "outputs": [],
   "source": [
    "# ZipFile.extractall([path[, members[, pwd]]])\n",
    "#  解压zip文档中的所有文件到当前目录。参数members的默认值为zip文档内的所有文件名称列表，也可以自己设置，选择要解压的文件名称。\n",
    "rst = zf.extractall(\"test.zip,Desktop/\")\n",
    "#print(rst)"
   ]
  },
  {
   "cell_type": "code",
   "execution_count": 21,
   "metadata": {},
   "outputs": [],
   "source": [
    "#test.zip解压文件\n",
    "tt=zipfile.ZipFile(\"test.zip\")\n",
    "rst=tt.extractall(\"test/\")"
   ]
  }
 ],
 "metadata": {
  "kernelspec": {
   "display_name": "Python 3",
   "language": "python",
   "name": "python3"
  },
  "language_info": {
   "codemirror_mode": {
    "name": "ipython",
    "version": 3
   },
   "file_extension": ".py",
   "mimetype": "text/x-python",
   "name": "python",
   "nbconvert_exporter": "python",
   "pygments_lexer": "ipython3",
   "version": "3.6.5"
  }
 },
 "nbformat": 4,
 "nbformat_minor": 2
}
