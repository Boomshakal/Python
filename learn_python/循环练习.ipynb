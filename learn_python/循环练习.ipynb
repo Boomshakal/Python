{
 "cells": [
  {
   "cell_type": "code",
   "execution_count": null,
   "metadata": {},
   "outputs": [],
   "source": [
    "age=17\n",
    "if age < 18:\n",
    "    print(\"我们去玩吧\")\n",
    "    print(\"gogogo！\")"
   ]
  },
  {
   "cell_type": "code",
   "execution_count": 7,
   "metadata": {},
   "outputs": [
    {
     "name": "stdout",
     "output_type": "stream",
     "text": [
      "去hai吧\n"
     ]
    }
   ],
   "source": [
    "age=19\n",
    "if age < 18:\n",
    "    print(\"我们去玩吧\")\n",
    "    print(\"gogogo！\")\n",
    "print(\"去hai吧\")"
   ]
  },
  {
   "cell_type": "code",
   "execution_count": 11,
   "metadata": {},
   "outputs": [
    {
     "name": "stdout",
     "output_type": "stream",
     "text": [
      "i am girl\n"
     ]
    }
   ],
   "source": [
    "a=\"女\"\n",
    "if a==\"男\":\n",
    "    print(\"I am man\")\n",
    "else :\n",
    "    print(\"i am girl\")"
   ]
  }
 ],
 "metadata": {
  "kernelspec": {
   "display_name": "Python 3",
   "language": "python",
   "name": "python3"
  },
  "language_info": {
   "codemirror_mode": {
    "name": "ipython",
    "version": 3
   },
   "file_extension": ".py",
   "mimetype": "text/x-python",
   "name": "python",
   "nbconvert_exporter": "python",
   "pygments_lexer": "ipython3",
   "version": "3.6.5"
  }
 },
 "nbformat": 4,
 "nbformat_minor": 2
}
