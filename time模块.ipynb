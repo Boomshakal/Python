{
 "cells": [
  {
   "cell_type": "code",
   "execution_count": 6,
   "metadata": {},
   "outputs": [
    {
     "name": "stdout",
     "output_type": "stream",
     "text": [
      "-28800\n"
     ]
    }
   ],
   "source": [
    "import time\n",
    "#东八区 UTC-8 -28800\n",
    "print(time.timezone)  "
   ]
  },
  {
   "cell_type": "code",
   "execution_count": 9,
   "metadata": {},
   "outputs": [
    {
     "name": "stdout",
     "output_type": "stream",
     "text": [
      "0\n"
     ]
    }
   ],
   "source": [
    "print(time.daylight)"
   ]
  },
  {
   "cell_type": "code",
   "execution_count": 15,
   "metadata": {},
   "outputs": [
    {
     "name": "stdout",
     "output_type": "stream",
     "text": [
      "Sat Jun 23 19:24:01 2018\n"
     ]
    }
   ],
   "source": [
    "t=time.localtime()\n",
    "tt=time.asctime(t)\n",
    "print(tt)"
   ]
  },
  {
   "cell_type": "code",
   "execution_count": 78,
   "metadata": {
    "scrolled": true
   },
   "outputs": [
    {
     "name": "stdout",
     "output_type": "stream",
     "text": [
      "<class 'builtin_function_or_method'>\n",
      "Sat Jun 23 19:40:27 2018\n"
     ]
    }
   ],
   "source": [
    "t=time.ctime()\n",
    "print(type(time.ctime))\n",
    "print(t)"
   ]
  },
  {
   "cell_type": "code",
   "execution_count": 77,
   "metadata": {
    "scrolled": true
   },
   "outputs": [
    {
     "name": "stdout",
     "output_type": "stream",
     "text": [
      "177.50417357228864\n",
      "3.000438302665998\n"
     ]
    }
   ],
   "source": [
    "#print(type(time.clock))\n",
    "print(time.clock())\n",
    "t0=time.clock()\n",
    "time.sleep(3)\n",
    "t1=time.clock()\n",
    "print(t1-t0)"
   ]
  },
  {
   "cell_type": "code",
   "execution_count": 79,
   "metadata": {
    "scrolled": true
   },
   "outputs": [
    {
     "name": "stdout",
     "output_type": "stream",
     "text": [
      "0\n",
      "1\n",
      "2\n",
      "3\n",
      "4\n",
      "5\n",
      "6\n",
      "7\n",
      "8\n",
      "9\n"
     ]
    }
   ],
   "source": [
    "#time.sleep 延时已秒为单位\n",
    "for i in range(10):\n",
    "    print(i)\n",
    "    time.sleep(1)"
   ]
  },
  {
   "cell_type": "code",
   "execution_count": 112,
   "metadata": {},
   "outputs": [
    {
     "name": "stdout",
     "output_type": "stream",
     "text": [
      "2018-06-23 19:57\n"
     ]
    }
   ],
   "source": [
    "t = time.localtime()\n",
    "#print(t)\n",
    "ft = time.strftime(\"%Y-%m-%d %H:%M\" , t)\n",
    "print(ft)"
   ]
  },
  {
   "cell_type": "code",
   "execution_count": 11,
   "metadata": {},
   "outputs": [
    {
     "name": "stdout",
     "output_type": "stream",
     "text": [
      "2018-06-23 00:00:00\n",
      "2018-06-24 14:58:59.823641\n",
      "2018-06-24 14:58:59.824638\n"
     ]
    }
   ],
   "source": [
    "from datetime import datetime\n",
    "dt=datetime(2018,6,23)\n",
    "print(dt)\n",
    "print(dt.today())\n",
    "print(dt.now())"
   ]
  },
  {
   "cell_type": "code",
   "execution_count": 149,
   "metadata": {},
   "outputs": [
    {
     "name": "stdout",
     "output_type": "stream",
     "text": [
      "1529756011.1912522\n",
      "3.000396251678467\n"
     ]
    }
   ],
   "source": [
    "def p():\n",
    "    time.sleep(3)\n",
    "t1=time.time()\n",
    "print(time.time())\n",
    "p()\n",
    "t=time.time()\n",
    "print(t-t1)"
   ]
  },
  {
   "cell_type": "code",
   "execution_count": 7,
   "metadata": {},
   "outputs": [
    {
     "name": "stdout",
     "output_type": "stream",
     "text": [
      "回复0\n",
      "回复1\n",
      "回复2\n",
      "回复0\n",
      "回复1\n",
      "回复2\n",
      "回复0\n",
      "回复1\n",
      "回复2\n",
      "回复0\n",
      "回复1\n",
      "回复2\n",
      "回复0\n",
      "回复1\n",
      "回复2\n",
      "回复0\n",
      "回复1\n",
      "回复2\n",
      "回复0\n",
      "回复1\n",
      "回复2\n",
      "回复0\n",
      "回复1\n",
      "回复2\n",
      "回复0\n",
      "回复1\n",
      "回复2\n",
      "回复0\n",
      "回复1\n",
      "回复2\n",
      "0.0005397051791149465\n"
     ]
    }
   ],
   "source": [
    "import timeit\n",
    "s='''\n",
    "def doIt(num):    \n",
    "    for i in range(num):\n",
    "        print(\"回复{0}\".format(i))\n",
    "'''       \n",
    "t=timeit.timeit(\"doIt(num)\",setup=s+\"num=3\",number=10)\n",
    "print(t)"
   ]
  },
  {
   "cell_type": "code",
   "execution_count": 10,
   "metadata": {},
   "outputs": [
    {
     "name": "stdout",
     "output_type": "stream",
     "text": [
      "回复0\n",
      "回复1\n",
      "回复2\n",
      "回复0\n",
      "回复1\n",
      "回复2\n",
      "回复0\n",
      "回复1\n",
      "回复2\n",
      "回复0\n",
      "回复1\n",
      "回复2\n",
      "回复0\n",
      "回复1\n",
      "回复2\n",
      "回复0\n",
      "回复1\n",
      "回复2\n",
      "回复0\n",
      "回复1\n",
      "回复2\n",
      "回复0\n",
      "回复1\n",
      "回复2\n",
      "回复0\n",
      "回复1\n",
      "回复2\n",
      "回复0\n",
      "回复1\n",
      "回复2\n",
      "0.00045714247721662105\n"
     ]
    }
   ],
   "source": [
    "def doIt(): \n",
    "    num=3\n",
    "    for i in range(num):\n",
    "        print(\"回复{0}\".format(i))\n",
    "t=timeit.timeit(stmt=doIt,number=10)\n",
    "print(t)"
   ]
  }
 ],
 "metadata": {
  "kernelspec": {
   "display_name": "Python 3",
   "language": "python",
   "name": "python3"
  },
  "language_info": {
   "codemirror_mode": {
    "name": "ipython",
    "version": 3
   },
   "file_extension": ".py",
   "mimetype": "text/x-python",
   "name": "python",
   "nbconvert_exporter": "python",
   "pygments_lexer": "ipython3",
   "version": "3.6.5"
  }
 },
 "nbformat": 4,
 "nbformat_minor": 2
}
